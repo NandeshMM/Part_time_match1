{
 "cells": [
  {
   "cell_type": "code",
   "execution_count": 4,
   "id": "e08b942b",
   "metadata": {},
   "outputs": [
    {
     "name": "stderr",
     "output_type": "stream",
     "text": [
      "C:\\Users\\hp\\anaconda3\\Lib\\site-packages\\sklearn\\svm\\_classes.py:32: FutureWarning: The default value of `dual` will change from `True` to `'auto'` in 1.5. Set the value of `dual` explicitly to suppress the warning.\n",
      "  warnings.warn(\n"
     ]
    },
    {
     "name": "stdout",
     "output_type": "stream",
     "text": [
      "Enter the Job Title\n",
      "DJ\n",
      "Predicted skills for 'DJ': DJ Equipment Usage, Music Selection, Crowd Interaction, Beatmatching, Mix Creation\n"
     ]
    }
   ],
   "source": [
    "import pandas as pd\n",
    "from sklearn.feature_extraction.text import TfidfVectorizer\n",
    "from sklearn.svm import LinearSVC\n",
    "\n",
    "# Sample data\n",
    "df = pd.read_csv(\"Dataset.csv\")\n",
    "\n",
    "df['job_title'] = df['job_title']\n",
    "df['skills'] = df['skills']\n",
    "\n",
    "# Convert job titles into numerical representations\n",
    "vectorizer = TfidfVectorizer()\n",
    "X = vectorizer.fit_transform(df['job_title'])\n",
    "\n",
    "# Train a Linear SVM model\n",
    "model = LinearSVC()\n",
    "model.fit(X, df['skills'])\n",
    "\n",
    "# Function to predict skills given a job title\n",
    "def predict_skills(job_title):\n",
    "    job_title_vec = vectorizer.transform([job_title])\n",
    "    predicted_skills = model.predict(job_title_vec)\n",
    "    return predicted_skills[0]\n",
    "\n",
    "# Example usage\n",
    "job_title = input(\"Enter the Job Title\\n\")\n",
    "predicted_skills = predict_skills(job_title)\n",
    "print(f\"Predicted skills for '{job_title}': {predicted_skills}\")"
   ]
  },
  {
   "cell_type": "code",
   "execution_count": 5,
   "id": "a1c22c29",
   "metadata": {},
   "outputs": [],
   "source": [
    "import pickle"
   ]
  },
  {
   "cell_type": "code",
   "execution_count": 6,
   "id": "c1290371",
   "metadata": {},
   "outputs": [],
   "source": [
    "pickle.dump(df,open('DataFrame1.pkl','wb'))"
   ]
  },
  {
   "cell_type": "code",
   "execution_count": null,
   "id": "25ea8ff3",
   "metadata": {},
   "outputs": [],
   "source": []
  }
 ],
 "metadata": {
  "kernelspec": {
   "display_name": "Python 3 (ipykernel)",
   "language": "python",
   "name": "python3"
  },
  "language_info": {
   "codemirror_mode": {
    "name": "ipython",
    "version": 3
   },
   "file_extension": ".py",
   "mimetype": "text/x-python",
   "name": "python",
   "nbconvert_exporter": "python",
   "pygments_lexer": "ipython3",
   "version": "3.11.4"
  }
 },
 "nbformat": 4,
 "nbformat_minor": 5
}
